{
 "cells": [
  {
   "cell_type": "code",
   "execution_count": 1,
   "metadata": {},
   "outputs": [
    {
     "name": "stdout",
     "output_type": "stream",
     "text": [
      "Version:  2.11.0\n"
     ]
    }
   ],
   "source": [
    "import tensorflow as tf\n",
    "print(\"Version: \",tf.__version__)"
   ]
  },
  {
   "cell_type": "code",
   "execution_count": 12,
   "metadata": {},
   "outputs": [
    {
     "name": "stdout",
     "output_type": "stream",
     "text": [
      "<module 'keras.api._v2.keras.datasets.mnist' from 'c:\\\\Users\\\\pjaas\\\\AppData\\\\Local\\\\Programs\\\\Python\\\\Python310\\\\lib\\\\site-packages\\\\keras\\\\api\\\\_v2\\\\keras\\\\datasets\\\\mnist\\\\__init__.py'>\n"
     ]
    }
   ],
   "source": [
    "#Loading dataset\n",
    "\n",
    "mnist = tf.keras.datasets.mnist\n",
    "print(mnist)\n",
    "\n",
    "(xtrain,ytrain),(xtest,ytest) = mnist.load_data()\n",
    "xtrain,xtest = xtrain/255.0,xtest/255.0\n"
   ]
  },
  {
   "cell_type": "code",
   "execution_count": 3,
   "metadata": {},
   "outputs": [],
   "source": [
    "#building the model\n",
    "\n",
    "model = tf.keras.models.Sequential([\n",
    "    tf.keras.layers.Flatten(input_shape=(28,28)),\n",
    "    tf.keras.layers.Dense(128,activation='relu'),\n",
    "    tf.keras.layers.Dropout(0.2),\n",
    "    tf.keras.layers.Dense(10)\n",
    "])"
   ]
  },
  {
   "cell_type": "code",
   "execution_count": 6,
   "metadata": {},
   "outputs": [
    {
     "name": "stdout",
     "output_type": "stream",
     "text": [
      "[[ 0.19057405 -0.22759661 -0.31924066 -0.59695125 -0.01129963  0.11719447\n",
      "   0.14819005  0.2246961   0.07155729  0.05245834]]\n"
     ]
    },
    {
     "data": {
      "text/plain": [
       "2.1790094"
      ]
     },
     "execution_count": 6,
     "metadata": {},
     "output_type": "execute_result"
    }
   ],
   "source": [
    "predictions = model(xtrain[:1]).numpy()\n",
    "print(predictions)\n",
    "\n",
    "tf.nn.softmax(predictions).numpy() \n",
    "\n",
    "lossFN = tf.keras.losses.SparseCategoricalCrossentropy(from_logits=True)\n",
    "lossFN(ytrain[:1],predictions).numpy()"
   ]
  },
  {
   "cell_type": "code",
   "execution_count": 8,
   "metadata": {},
   "outputs": [
    {
     "name": "stdout",
     "output_type": "stream",
     "text": [
      "Epoch 1/5\n",
      "1875/1875 [==============================] - 4s 2ms/step - loss: 0.2981 - accuracy: 0.9133\n",
      "Epoch 2/5\n",
      "1875/1875 [==============================] - 3s 2ms/step - loss: 0.1442 - accuracy: 0.9582\n",
      "Epoch 3/5\n",
      "1875/1875 [==============================] - 3s 2ms/step - loss: 0.1071 - accuracy: 0.9671\n",
      "Epoch 4/5\n",
      "1875/1875 [==============================] - 3s 2ms/step - loss: 0.0919 - accuracy: 0.9718\n",
      "Epoch 5/5\n",
      "1875/1875 [==============================] - 3s 2ms/step - loss: 0.0746 - accuracy: 0.9763\n",
      "313/313 - 0s - loss: 0.0684 - accuracy: 0.9802 - 421ms/epoch - 1ms/step\n"
     ]
    },
    {
     "data": {
      "text/plain": [
       "[0.06835523247718811, 0.9801999926567078]"
      ]
     },
     "execution_count": 8,
     "metadata": {},
     "output_type": "execute_result"
    }
   ],
   "source": [
    "model.compile(optimizer='adam',loss=lossFN,metrics=['accuracy'])\n",
    "\n",
    "model.fit(xtrain,ytrain,epochs=5)\n",
    "model.evaluate(xtest,ytest,verbose=2)"
   ]
  },
  {
   "cell_type": "code",
   "execution_count": 11,
   "metadata": {},
   "outputs": [
    {
     "data": {
      "text/plain": [
       "<tf.Tensor: shape=(5, 10), dtype=float32, numpy=\n",
       "array([[3.3131280e-07, 2.4798403e-09, 2.5484094e-05, 9.6391195e-05,\n",
       "        1.6203006e-12, 1.7849429e-07, 9.0336301e-14, 9.9987352e-01,\n",
       "        4.8251354e-07, 3.3916724e-06],\n",
       "       [1.9207182e-07, 6.6996901e-05, 9.9991465e-01, 1.7735407e-05,\n",
       "        1.4322991e-17, 2.1702036e-07, 7.7919218e-08, 1.6539552e-13,\n",
       "        5.5021523e-08, 3.8347631e-14],\n",
       "       [1.9497834e-08, 9.9828643e-01, 1.0268554e-03, 1.5298249e-06,\n",
       "        3.3477697e-06, 1.7033754e-07, 1.7707032e-07, 6.0973002e-04,\n",
       "        7.1347094e-05, 5.6780641e-07],\n",
       "       [9.9996936e-01, 1.1769690e-08, 2.3200178e-05, 3.8031814e-08,\n",
       "        1.4527281e-08, 1.7813818e-06, 1.9484567e-06, 2.1027074e-06,\n",
       "        2.0670559e-08, 1.5488417e-06],\n",
       "       [6.6058687e-06, 1.2169810e-09, 9.9541703e-06, 1.4226810e-09,\n",
       "        9.9943656e-01, 4.7185588e-07, 4.9194359e-06, 1.5531750e-05,\n",
       "        2.5964789e-07, 5.2576471e-04]], dtype=float32)>"
      ]
     },
     "execution_count": 11,
     "metadata": {},
     "output_type": "execute_result"
    }
   ],
   "source": [
    "probability_mod = tf.keras.Sequential([model,tf.keras.layers.Softmax()])\n",
    "probability_mod(xtest[:5])"
   ]
  }
 ],
 "metadata": {
  "kernelspec": {
   "display_name": "Python 3",
   "language": "python",
   "name": "python3"
  },
  "language_info": {
   "codemirror_mode": {
    "name": "ipython",
    "version": 3
   },
   "file_extension": ".py",
   "mimetype": "text/x-python",
   "name": "python",
   "nbconvert_exporter": "python",
   "pygments_lexer": "ipython3",
   "version": "3.10.6"
  },
  "orig_nbformat": 4,
  "vscode": {
   "interpreter": {
    "hash": "2d08b39f4dbef70f0d8175b93e3eb1909708a293dfc021300289f58bfc754009"
   }
  }
 },
 "nbformat": 4,
 "nbformat_minor": 2
}
