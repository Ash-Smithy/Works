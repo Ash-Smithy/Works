{
 "cells": [
  {
   "attachments": {},
   "cell_type": "markdown",
   "metadata": {},
   "source": [
    "Testbot with small corpus"
   ]
  },
  {
   "cell_type": "code",
   "execution_count": 2,
   "metadata": {},
   "outputs": [],
   "source": [
    "import numpy as np\n",
    "import nltk\n",
    "import string\n",
    "import random"
   ]
  },
  {
   "cell_type": "code",
   "execution_count": 4,
   "metadata": {},
   "outputs": [
    {
     "name": "stderr",
     "output_type": "stream",
     "text": [
      "[nltk_data] Downloading package punkt to\n",
      "[nltk_data]     C:\\Users\\pjaas\\AppData\\Roaming\\nltk_data...\n",
      "[nltk_data]   Package punkt is already up-to-date!\n",
      "[nltk_data] Downloading package wordnet to\n",
      "[nltk_data]     C:\\Users\\pjaas\\AppData\\Roaming\\nltk_data...\n",
      "[nltk_data]   Package wordnet is already up-to-date!\n"
     ]
    }
   ],
   "source": [
    "file = open('botstuff.txt','r',errors='ignore')\n",
    "raw_doc=file.read()\n",
    "raw_doc=raw_doc.lower()\n",
    "nltk.download('punkt')\n",
    "nltk.download('wordnet')\n",
    "sent_tokens = nltk.sent_tokenize(raw_doc)\n",
    "word_tokens = nltk.word_tokenize(raw_doc)"
   ]
  },
  {
   "cell_type": "code",
   "execution_count": 5,
   "metadata": {},
   "outputs": [
    {
     "data": {
      "text/plain": [
       "['data science\\n\\narticle\\ntalk\\nread\\nedit\\nview history\\nfrom wikipedia, the free encyclopedia\\nnot to be confused with information science.',\n",
       " 'the existence of comet neowise (here depicted as a series of red dots) was discovered by analyzing astronomical survey data acquired by a space telescope, the wide-field infrared survey explorer.']"
      ]
     },
     "execution_count": 5,
     "metadata": {},
     "output_type": "execute_result"
    }
   ],
   "source": [
    "sent_tokens[:2]"
   ]
  },
  {
   "cell_type": "code",
   "execution_count": 6,
   "metadata": {},
   "outputs": [
    {
     "data": {
      "text/plain": [
       "['data', 'science']"
      ]
     },
     "execution_count": 6,
     "metadata": {},
     "output_type": "execute_result"
    }
   ],
   "source": [
    "word_tokens[:2]"
   ]
  },
  {
   "cell_type": "code",
   "execution_count": 6,
   "metadata": {},
   "outputs": [],
   "source": [
    "lemmer = nltk.stem.WordNetLemmatizer() #WordNet is a dictionary of English in NLTK\n",
    "def LemTokens(tokens):\n",
    "    return [lemmer.lemmatize(token) for token in tokens]\n",
    "remove_punct_dict = dict((ord(punct), None) for punct in string.punctuation)\n",
    "def LemNormalize(text):\n",
    "    return LemTokens(nltk.word_tokenize(text.lower().translate(remove_punct_dict)))"
   ]
  },
  {
   "cell_type": "code",
   "execution_count": 7,
   "metadata": {},
   "outputs": [],
   "source": [
    "hello_inp = (\"Hello\",\"Hi\",\"what up\",\"sup\",\"heya\",\"hey\",\"hello\",\"hi\",)\n",
    "hello_outp = [\"Hello there!\", \"Nice to see you here!\", \"Greetings\", \"Namaste\"]\n",
    "def greet(sentence):\n",
    "    for word in sentence.split():\n",
    "        if word.lower() in hello_inp:\n",
    "            return random.choice(hello_outp)"
   ]
  },
  {
   "cell_type": "code",
   "execution_count": 8,
   "metadata": {},
   "outputs": [],
   "source": [
    "#Responses \n",
    "from sklearn.feature_extraction.text import TfidfVectorizer\n",
    "from sklearn.metrics.pairwise import cosine_similarity"
   ]
  },
  {
   "cell_type": "code",
   "execution_count": 9,
   "metadata": {},
   "outputs": [],
   "source": [
    "def response(user_res):\n",
    "    rob1_res=''\n",
    "    TfidfVec = TfidfVectorizer(tokenizer=LemNormalize, stop_words='english')\n",
    "    tfidf = TfidfVec.fit_transform(sent_tokens)\n",
    "    vals = cosine_similarity(tfidf[-1], tfidf)\n",
    "    idx = vals.argsort()[0][-2]\n",
    "    flat = vals.flatten()\n",
    "    flat.sort()\n",
    "    req_tfidf = flat[-2]\n",
    "    if(req_tfidf==0):\n",
    "        rob1_res=rob1_res+\"Sorry, I couldn't understand.\"\n",
    "        return rob1_res\n",
    "    else:\n",
    "        rob1_res = rob1_res+sent_tokens[idx]\n",
    "        return rob1_res"
   ]
  },
  {
   "cell_type": "code",
   "execution_count": 10,
   "metadata": {},
   "outputs": [
    {
     "name": "stdout",
     "output_type": "stream",
     "text": [
      "Bot: Hi there! I am a Bot at your service! (Note: To end conversation at any point type 'exit')\n",
      "Bot: Hello there!\n",
      "Bot: "
     ]
    },
    {
     "name": "stderr",
     "output_type": "stream",
     "text": [
      "c:\\Users\\pjaas\\AppData\\Local\\Programs\\Python\\Python310\\lib\\site-packages\\sklearn\\feature_extraction\\text.py:404: UserWarning: Your stop_words may be inconsistent with your preprocessing. Tokenizing the stop words generated tokens ['ha', 'le', 'u', 'wa'] not in stop_words.\n",
      "  warnings.warn(\n"
     ]
    },
    {
     "name": "stdout",
     "output_type": "stream",
     "text": [
      "[37]\n",
      "\n",
      "see also\n",
      "open data science conference\n",
      "scientific data\n",
      "women in data\n",
      "references\n",
      " donoho, david (2017).\n",
      "Bot: Sorry, I couldn't understand.\n",
      "Bot: \"what is data science?\n",
      "Bot: Nice to see you here!\n",
      "Bot: Greetings\n",
      "Bot: You are welcome! See you again.\n"
     ]
    }
   ],
   "source": [
    "flag = True\n",
    "print(\"Bot: Hi there! I am a Bot at your service! (Note: To end conversation at any point type 'exit')\")\n",
    "while (flag==True):\n",
    "    user_res = input()\n",
    "    user_res = user_res.lower()\n",
    "    if(user_res != 'exit'):\n",
    "        if(user_res == 'thanks' or user_res == 'thank you'):\n",
    "            flag = False\n",
    "            print(\"Bot: You are welcome! See you again.\")\n",
    "        else:\n",
    "            if(greet(user_res)!= None):\n",
    "                print(\"Bot: \"+greet(user_res))\n",
    "            else:\n",
    "                sent_tokens.append(user_res)\n",
    "                word_tokens=word_tokens+nltk.word_tokenize(user_res)\n",
    "                final_words = list(set(word_tokens))\n",
    "                print(\"Bot: \",end=\"\")\n",
    "                print(response(user_res))\n",
    "                sent_tokens.remove(user_res)\n",
    "    else:\n",
    "        flag=False\n",
    "        print(\"Bot: Bye bye!👋\")"
   ]
  },
  {
   "cell_type": "code",
   "execution_count": null,
   "metadata": {},
   "outputs": [],
   "source": []
  }
 ],
 "metadata": {
  "kernelspec": {
   "display_name": "Python 3",
   "language": "python",
   "name": "python3"
  },
  "language_info": {
   "codemirror_mode": {
    "name": "ipython",
    "version": 3
   },
   "file_extension": ".py",
   "mimetype": "text/x-python",
   "name": "python",
   "nbconvert_exporter": "python",
   "pygments_lexer": "ipython3",
   "version": "3.10.6"
  },
  "orig_nbformat": 4,
  "vscode": {
   "interpreter": {
    "hash": "2d08b39f4dbef70f0d8175b93e3eb1909708a293dfc021300289f58bfc754009"
   }
  }
 },
 "nbformat": 4,
 "nbformat_minor": 2
}
